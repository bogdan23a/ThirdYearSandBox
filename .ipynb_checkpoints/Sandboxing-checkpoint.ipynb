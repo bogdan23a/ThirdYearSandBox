{
 "cells": [
  {
   "cell_type": "code",
   "execution_count": 2,
   "metadata": {},
   "outputs": [],
   "source": [
    "import requests\n",
    "import json\n",
    "import string\n",
    "import getpass\n",
    "\n",
    "username = 'bogdan.gherasim'\n",
    "password = 'jk128pq39H'\n",
    "\n",
    "base_url = 'http://www.fairdomhub.org/'\n",
    "base_url_1 = 'https://testing.sysmo-db.org'\n",
    "\n",
    "\n",
    "headers = {\"Content-type\": \"application/vnd.api+json\",\n",
    "           \"Accept\": \"application/vnd.api+json\",\n",
    "           \"Accept-Charset\": \"ISO-8859-1\"}"
   ]
  },
  {
   "cell_type": "markdown",
   "metadata": {},
   "source": [
    "## Authentication"
   ]
  },
  {
   "cell_type": "code",
   "execution_count": 4,
   "metadata": {},
   "outputs": [
    {
     "data": {
      "text/plain": [
       "{'data': {'id': '1145',\n",
       "  'type': 'people',\n",
       "  'attributes': {'avatar': '/people/1145/avatars/709',\n",
       "   'title': 'Mussarat Bibi',\n",
       "   'description': None,\n",
       "   'first_name': 'Mussarat',\n",
       "   'last_name': 'Bibi',\n",
       "   'web_page': None,\n",
       "   'orcid': None,\n",
       "   'mbox_sha1sum': '7e88a870a75370812fc72afd30c70ca5477bf7f2',\n",
       "   'phone': None,\n",
       "   'skype_name': None,\n",
       "   'expertise': None,\n",
       "   'tools': None,\n",
       "   'project_positions': [{'project_id': '96',\n",
       "     'position_id': '4',\n",
       "     'position_name': 'Student'}]},\n",
       "  'relationships': {'projects': {'data': [{'id': '96', 'type': 'projects'}]},\n",
       "   'institutions': {'data': [{'id': '239', 'type': 'institutions'}]},\n",
       "   'investigations': {'data': []},\n",
       "   'studies': {'data': []},\n",
       "   'assays': {'data': []},\n",
       "   'data_files': {'data': []},\n",
       "   'models': {'data': []},\n",
       "   'sops': {'data': []},\n",
       "   'publications': {'data': []},\n",
       "   'presentations': {'data': []},\n",
       "   'events': {'data': []},\n",
       "   'documents': {'data': []}},\n",
       "  'links': {'self': '/people/1145'},\n",
       "  'meta': {'created': '2018-08-07T10:03:51.000Z',\n",
       "   'modified': '2018-09-30T12:58:30.000Z',\n",
       "   'api_version': '0.1',\n",
       "   'uuid': '1c27c770-7c57-0136-5106-549f350973c0',\n",
       "   'base_url': 'https://fairdomhub.org'}},\n",
       " 'jsonapi': {'version': '1.0'}}"
      ]
     },
     "execution_count": 4,
     "metadata": {},
     "output_type": "execute_result"
    }
   ],
   "source": [
    "session = requests.Session()\n",
    "session.headers.update(headers)\n",
    "# session.auth = (input('Username:'), getpass.getpass('Password'))\n",
    "session.auth = (username, password)\n",
    "\n",
    "# r = session.get(base_url + 'people/1145')"
   ]
  },
  {
   "cell_type": "markdown",
   "metadata": {},
   "source": [
    "## Searching"
   ]
  },
  {
   "cell_type": "code",
   "execution_count": 3,
   "metadata": {
    "scrolled": true
   },
   "outputs": [
    {
     "name": "stdout",
     "output_type": "stream",
     "text": [
      "Enter the search term: jaga\n"
     ]
    }
   ],
   "source": [
    "# \n",
    "\n",
    "def remove_non_printable(text):\n",
    "    return ''.join(i for i in text if i in string.printable)\n",
    "\n",
    "term = input(\"Enter the search term: \")\n",
    "\n",
    "payload = {'q' : term} # will give the parameter for the HTTP request as \"?q=<<term>>\"\n",
    "\n",
    "r = requests.get(base_url + 'search', headers=headers, params=payload)\n",
    "\n",
    "r.raise_for_status() # makes sure to throw err if bad request\n",
    "\n",
    "for entry in r.json()['data'] :\n",
    "    title = entry['attributes']['title']\n",
    "    entry_type = entry['type']\n",
    "    print (\"Type: {0}   Title: {1}\".format(remove_non_printable(entry_type),\n",
    "                                            remove_non_printable(title)))"
   ]
  },
  {
   "cell_type": "markdown",
   "metadata": {},
   "source": [
    "## Reading info from people "
   ]
  },
  {
   "cell_type": "code",
   "execution_count": 42,
   "metadata": {},
   "outputs": [
    {
     "name": "stdout",
     "output_type": "stream",
     "text": [
      "Natalie Stanford ( Postdoc ) \n",
      "\n",
      "Interested in systems + synthetic biology, biotechnology, mountaineering, swimming, running, and the occasional cup of tea. Once diagnosed as an ENFP.\n"
     ]
    }
   ],
   "source": [
    "session = requests.Session()\n",
    "session.headers.update(headers)\n",
    "# session.auth = (input('Username:'), getpass.getpass('Password'))\n",
    "session.auth = (username, password)\n",
    "\n",
    "r = session.get(base_url + 'people/433')\n",
    "\n",
    "r.raise_for_status()\n",
    "\n",
    "attributes = r.json()['data']['attributes']\n",
    "name = attributes['title']\n",
    "position = attributes['project_positions'][0]['position_name']\n",
    "description = attributes['description']\n",
    "print (\"{0} ( {1} ) \\n\\n{2}\".format(remove_non_printable(name),\n",
    "                                   remove_non_printable(position),\n",
    "                                   remove_non_printable(description)))"
   ]
  },
  {
   "cell_type": "code",
   "execution_count": 38,
   "metadata": {},
   "outputs": [
    {
     "data": {
      "text/plain": [
       "{'data': {'id': '433',\n",
       "  'type': 'people',\n",
       "  'attributes': {'avatar': '/people/433/avatars/346',\n",
       "   'title': 'Natalie Stanford',\n",
       "   'description': 'Interested in systems + synthetic biology, biotechnology, mountaineering, swimming, running, and the occasional cup of tea. Once diagnosed as an ENFP.',\n",
       "   'first_name': 'Natalie',\n",
       "   'last_name': 'Stanford',\n",
       "   'web_page': 'https://www.linkedin.com/pub/natalie-j-stanford/1a/56b/559',\n",
       "   'orcid': 'http://orcid.org/0000-0003-4958-0184',\n",
       "   'mbox_sha1sum': '1d7eb091cff39939ba87c27c8e0f399ffb6b4650',\n",
       "   'phone': None,\n",
       "   'skype_name': 'nstanford86',\n",
       "   'expertise': ['Data Management',\n",
       "    'Kinetic modelling',\n",
       "    'Metabolic Engineering',\n",
       "    'Stoichiometric modelling',\n",
       "    'Systems Biology',\n",
       "    'metabolic networks'],\n",
       "   'tools': ['COBRA toolbox', 'Copasi', 'Matlab', 'Python'],\n",
       "   'project_positions': [{'project_id': '17',\n",
       "     'position_id': '5',\n",
       "     'position_name': 'Postdoc'},\n",
       "    {'project_id': '19', 'position_id': '5', 'position_name': 'Postdoc'}]},\n",
       "  'relationships': {'projects': {'data': [{'id': '12', 'type': 'projects'},\n",
       "     {'id': '17', 'type': 'projects'},\n",
       "     {'id': '18', 'type': 'projects'},\n",
       "     {'id': '19', 'type': 'projects'},\n",
       "     {'id': '27', 'type': 'projects'},\n",
       "     {'id': '34', 'type': 'projects'},\n",
       "     {'id': '38', 'type': 'projects'},\n",
       "     {'id': '51', 'type': 'projects'},\n",
       "     {'id': '122', 'type': 'projects'}]},\n",
       "   'institutions': {'data': [{'id': '42', 'type': 'institutions'},\n",
       "     {'id': '62', 'type': 'institutions'},\n",
       "     {'id': '195', 'type': 'institutions'}]},\n",
       "   'investigations': {'data': [{'id': '58', 'type': 'investigations'}]},\n",
       "   'studies': {'data': [{'id': '122', 'type': 'studies'}]},\n",
       "   'assays': {'data': [{'id': '269', 'type': 'assays'},\n",
       "     {'id': '270', 'type': 'assays'},\n",
       "     {'id': '271', 'type': 'assays'}]},\n",
       "   'data_files': {'data': [{'id': '1189', 'type': 'data_files'},\n",
       "     {'id': '1292', 'type': 'data_files'},\n",
       "     {'id': '1293', 'type': 'data_files'},\n",
       "     {'id': '1320', 'type': 'data_files'},\n",
       "     {'id': '1991', 'type': 'data_files'}]},\n",
       "   'models': {'data': [{'id': '159', 'type': 'models'},\n",
       "     {'id': '160', 'type': 'models'}]},\n",
       "   'sops': {'data': [{'id': '228', 'type': 'sops'},\n",
       "     {'id': '229', 'type': 'sops'},\n",
       "     {'id': '230', 'type': 'sops'},\n",
       "     {'id': '250', 'type': 'sops'}]},\n",
       "   'publications': {'data': [{'id': '236', 'type': 'publications'},\n",
       "     {'id': '300', 'type': 'publications'},\n",
       "     {'id': '302', 'type': 'publications'},\n",
       "     {'id': '328', 'type': 'publications'}]},\n",
       "   'presentations': {'data': [{'id': '106', 'type': 'presentations'},\n",
       "     {'id': '119', 'type': 'presentations'},\n",
       "     {'id': '120', 'type': 'presentations'},\n",
       "     {'id': '121', 'type': 'presentations'},\n",
       "     {'id': '123', 'type': 'presentations'},\n",
       "     {'id': '175', 'type': 'presentations'},\n",
       "     {'id': '197', 'type': 'presentations'},\n",
       "     {'id': '198', 'type': 'presentations'},\n",
       "     {'id': '199', 'type': 'presentations'},\n",
       "     {'id': '200', 'type': 'presentations'},\n",
       "     {'id': '201', 'type': 'presentations'},\n",
       "     {'id': '202', 'type': 'presentations'},\n",
       "     {'id': '203', 'type': 'presentations'},\n",
       "     {'id': '204', 'type': 'presentations'},\n",
       "     {'id': '205', 'type': 'presentations'},\n",
       "     {'id': '206', 'type': 'presentations'},\n",
       "     {'id': '207', 'type': 'presentations'},\n",
       "     {'id': '300', 'type': 'presentations'},\n",
       "     {'id': '302', 'type': 'presentations'},\n",
       "     {'id': '320', 'type': 'presentations'}]},\n",
       "   'events': {'data': [{'id': '39', 'type': 'events'},\n",
       "     {'id': '42', 'type': 'events'},\n",
       "     {'id': '43', 'type': 'events'},\n",
       "     {'id': '99', 'type': 'events'}]},\n",
       "   'documents': {'data': []}},\n",
       "  'links': {'self': '/people/433'},\n",
       "  'meta': {'created': '2013-10-04T13:15:52.000Z',\n",
       "   'modified': '2017-01-24T16:09:51.000Z',\n",
       "   'api_version': '0.1',\n",
       "   'uuid': 'a36ffcd2-1e6b-4789-9829-13a0abf588bc',\n",
       "   'base_url': 'https://fairdomhub.org'}},\n",
       " 'jsonapi': {'version': '1.0'}}"
      ]
     },
     "execution_count": 38,
     "metadata": {},
     "output_type": "execute_result"
    }
   ],
   "source": [
    "r.json()\n"
   ]
  },
  {
   "cell_type": "markdown",
   "metadata": {},
   "source": [
    "## About assays"
   ]
  },
  {
   "cell_type": "code",
   "execution_count": 26,
   "metadata": {},
   "outputs": [
    {
     "name": "stdout",
     "output_type": "stream",
     "text": [
      "Growth of Col-0 in 12hL:12hD ( Cultivation Experiment ) - Cultivation Experiment \n",
      "\n",
      "Data for Figure 2I-2K in Chew et al. PNAS 2014.\n",
      "Experimental conditions: 21.3 C; 12:12-h light/dark cycle; light intensity, 110 molm2s1;mean daytime CO2 level, 375 ppm. The error bars show the SEs of five plants\n",
      "Further detail on the experimental conditions is contained in the public record on the BioDare resource, link to follow\n",
      "\n",
      "Contributors: \n",
      "Andrew Millar,\n",
      "Yin Hoon Chew,\n",
      "\n",
      "Organisms: \n",
      "Arabidopsis thaliana\n"
     ]
    }
   ],
   "source": [
    "session = requests.Session()\n",
    "session.headers.update(headers)\n",
    "# session.auth = (input('Username:'), getpass.getpass('Password'))\n",
    "session.auth = (username, password)\n",
    "\n",
    "assayRequest = session.get(base_url + 'assays/709')\n",
    "\n",
    "assayRequest.raise_for_status()\n",
    "\n",
    "attributes = assayRequest.json()['data']['attributes']\n",
    "relationships = assayRequest.json()['data']['relationships']\n",
    "organisms = relationships['organisms']['data']\n",
    "name = attributes['title']\n",
    "assayType = attributes['assay_class']['title']\n",
    "description = attributes['description']\n",
    "assayType = attributes['assay_type']['label']\n",
    "creators = relationships['creators']['data']\n",
    "\n",
    "print (\"{0} ( {1} ) - {3} \\n\\n{2}\".format(remove_non_printable(name),\n",
    "                                   remove_non_printable(assayType),\n",
    "                                   remove_non_printable(description),\n",
    "                                   remove_non_printable(assayType)))\n",
    "\n",
    "\n",
    "print(\"\\nContributors: \")\n",
    "for person in creators:\n",
    "    creatorsRequest = session.get(base_url + person['type'] + \"/\" + person['id'])\n",
    "    creatorsRequest.raise_for_status();\n",
    "    name = creatorsRequest.json()['data']['attributes']['title']\n",
    "    print(\"{0},\".format(remove_non_printable(name)))\n",
    "\n",
    "    \n",
    "print(\"\\nOrganisms: \")\n",
    "for organism in organisms:\n",
    "    organismRequest = session.get(base_url + organism['type'] + \"/\" + organism['id'])\n",
    "    organismRequest.raise_for_status();\n",
    "    organismRequest.json()\n",
    "    name = organismRequest.json()['data']['attributes']['title']\n",
    "    print(\"Assay uses organism: {0}\\nOther assays using this: \\n\".format(remove_non_printable(name)))\n",
    "    \n",
    "    assaysArray = organismRequest.json()['data']['assays']\n",
    "    for assay in assaysArray:\n",
    "        \n",
    "    moreAssays = session.get(base_url +)"
   ]
  },
  {
   "cell_type": "code",
   "execution_count": 6,
   "metadata": {},
   "outputs": [
    {
     "data": {
      "text/plain": [
       "{'data': {'id': '709',\n",
       "  'type': 'assays',\n",
       "  'attributes': {'title': 'Growth of Col-0 in 12hL:12hD',\n",
       "   'description': 'Data for Figure 2I-2K in Chew et al. PNAS 2014.\\r\\nExperimental conditions: ∼21.3 °C; 12:12-h light/dark cycle; light intensity, 110 μmol·m−2·s−1;mean daytime CO2 level, 375 ppm. The error bars show the SEs of five plants\\r\\nFurther detail on the experimental conditions is contained in the public record on the BioDare resource, link to follow',\n",
       "   'other_creators': 'Benedicte Wenden',\n",
       "   'assay_class': {'title': 'Experimental Assay',\n",
       "    'key': 'EXP',\n",
       "    'description': None},\n",
       "   'assay_type': {'label': 'Cultivation Experiment',\n",
       "    'uri': 'http://jermontology.org/ontology/JERMOntology#Cultivation_experiment'},\n",
       "   'technology_type': {'label': 'Cultivation experiment',\n",
       "    'uri': 'http://jermontology.org/ontology/JERMOntology#Technology_type'},\n",
       "   'tags': None},\n",
       "  'relationships': {'creators': {'data': [{'id': '850', 'type': 'people'},\n",
       "     {'id': '854', 'type': 'people'}]},\n",
       "   'submitter': {'data': [{'id': '850', 'type': 'people'}]},\n",
       "   'organisms': {'data': [{'id': '1933753714', 'type': 'organisms'}]},\n",
       "   'people': {'data': [{'id': '850', 'type': 'people'},\n",
       "     {'id': '854', 'type': 'people'}]},\n",
       "   'projects': {'data': [{'id': '59', 'type': 'projects'}]},\n",
       "   'investigation': {'data': {'id': '222', 'type': 'investigations'}},\n",
       "   'study': {'data': {'id': '400', 'type': 'studies'}},\n",
       "   'data_files': {'data': [{'id': '2222', 'type': 'data_files'}]},\n",
       "   'models': {'data': []},\n",
       "   'sops': {'data': []},\n",
       "   'publications': {'data': []},\n",
       "   'documents': {'data': []}},\n",
       "  'links': {'self': '/assays/709'},\n",
       "  'meta': {'created': '2018-08-22T10:39:23.000Z',\n",
       "   'modified': '2018-08-22T15:03:38.000Z',\n",
       "   'api_version': '0.1',\n",
       "   'uuid': '8f247bb0-8825-0136-5116-549f350973c0',\n",
       "   'base_url': 'https://fairdomhub.org'}},\n",
       " 'jsonapi': {'version': '1.0'}}"
      ]
     },
     "execution_count": 6,
     "metadata": {},
     "output_type": "execute_result"
    }
   ],
   "source": [
    "r.json()"
   ]
  },
  {
   "cell_type": "code",
   "execution_count": 27,
   "metadata": {},
   "outputs": [
    {
     "data": {
      "text/plain": [
       "{'data': {'id': '1933753714',\n",
       "  'type': 'organisms',\n",
       "  'attributes': {'title': 'Arabidopsis thaliana',\n",
       "   'concept_uri': 'http://purl.bioontology.org/ontology/NCBITAXON/3702',\n",
       "   'ontology_id': 'NCBITAXON'},\n",
       "  'relationships': {'projects': {'data': [{'id': '37', 'type': 'projects'},\n",
       "     {'id': '49', 'type': 'projects'},\n",
       "     {'id': '59', 'type': 'projects'},\n",
       "     {'id': '88', 'type': 'projects'},\n",
       "     {'id': '92', 'type': 'projects'},\n",
       "     {'id': '95', 'type': 'projects'},\n",
       "     {'id': '116', 'type': 'projects'},\n",
       "     {'id': '121', 'type': 'projects'}]},\n",
       "   'assays': {'data': [{'id': '312', 'type': 'assays'},\n",
       "     {'id': '590', 'type': 'assays'},\n",
       "     {'id': '591', 'type': 'assays'},\n",
       "     {'id': '592', 'type': 'assays'},\n",
       "     {'id': '593', 'type': 'assays'},\n",
       "     {'id': '709', 'type': 'assays'},\n",
       "     {'id': '711', 'type': 'assays'},\n",
       "     {'id': '712', 'type': 'assays'},\n",
       "     {'id': '714', 'type': 'assays'},\n",
       "     {'id': '715', 'type': 'assays'}]},\n",
       "   'models': {'data': [{'id': '186', 'type': 'models'},\n",
       "     {'id': '243', 'type': 'models'},\n",
       "     {'id': '247', 'type': 'models'},\n",
       "     {'id': '248', 'type': 'models'},\n",
       "     {'id': '298', 'type': 'models'},\n",
       "     {'id': '314', 'type': 'models'}]}},\n",
       "  'links': {'self': '/organisms/1933753714'},\n",
       "  'meta': {'created': '2015-12-21T12:52:53.000Z',\n",
       "   'modified': '2015-12-21T12:52:53.000Z',\n",
       "   'api_version': '0.1',\n",
       "   'uuid': '33944190-a6be-0135-6773-549f350973c0',\n",
       "   'base_url': 'https://fairdomhub.org'}},\n",
       " 'jsonapi': {'version': '1.0'}}"
      ]
     },
     "execution_count": 27,
     "metadata": {},
     "output_type": "execute_result"
    }
   ],
   "source": [
    "organismRequest.json()"
   ]
  },
  {
   "cell_type": "code",
   "execution_count": null,
   "metadata": {},
   "outputs": [],
   "source": []
  }
 ],
 "metadata": {
  "kernelspec": {
   "display_name": "Python 3",
   "language": "python",
   "name": "python3"
  },
  "language_info": {
   "codemirror_mode": {
    "name": "ipython",
    "version": 3
   },
   "file_extension": ".py",
   "mimetype": "text/x-python",
   "name": "python",
   "nbconvert_exporter": "python",
   "pygments_lexer": "ipython3",
   "version": "3.6.5"
  }
 },
 "nbformat": 4,
 "nbformat_minor": 2
}
